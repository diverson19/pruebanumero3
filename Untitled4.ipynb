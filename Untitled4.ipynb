{
  "nbformat": 4,
  "nbformat_minor": 0,
  "metadata": {
    "colab": {
      "provenance": [],
      "authorship_tag": "ABX9TyM5lmE2TA0Y5W6zhEqTgwEz",
      "include_colab_link": true
    },
    "kernelspec": {
      "name": "python3",
      "display_name": "Python 3"
    },
    "language_info": {
      "name": "python"
    }
  },
  "cells": [
    {
      "cell_type": "markdown",
      "metadata": {
        "id": "view-in-github",
        "colab_type": "text"
      },
      "source": [
        "<a href=\"https://colab.research.google.com/github/diverson19/pruebanumero3/blob/main/Untitled4.ipynb\" target=\"_parent\"><img src=\"https://colab.research.google.com/assets/colab-badge.svg\" alt=\"Open In Colab\"/></a>"
      ]
    },
    {
      "cell_type": "code",
      "execution_count": 27,
      "metadata": {
        "colab": {
          "base_uri": "https://localhost:8080/",
          "height": 373
        },
        "id": "eurofeKxR1AI",
        "outputId": "fc140181-b1b8-4cf0-8aee-6584ca1d96a4"
      },
      "outputs": [
        {
          "name": "stdout",
          "output_type": "stream",
          "text": [
            "\n",
            "------ MENÚ ------\n",
            "1. Grabar\n",
            "2. Buscar\n",
            "3. Imprimir certificados\n",
            "4. Eliminar\n",
            "5. Salir\n",
            "Ingrese el número de la opción que desea seleccionar: 1\n"
          ]
        },
        {
          "output_type": "error",
          "ename": "NameError",
          "evalue": "ignored",
          "traceback": [
            "\u001b[0;31m---------------------------------------------------------------------------\u001b[0m",
            "\u001b[0;31mNameError\u001b[0m                                 Traceback (most recent call last)",
            "\u001b[0;32m<ipython-input-27-cc298b258772>\u001b[0m in \u001b[0;36m<cell line: 10>\u001b[0;34m()\u001b[0m\n\u001b[1;32m     13\u001b[0m     \u001b[0mgrabar_persona\u001b[0m\u001b[0;34m(\u001b[0m\u001b[0;34m)\u001b[0m\u001b[0;34m\u001b[0m\u001b[0;34m\u001b[0m\u001b[0m\n\u001b[1;32m     14\u001b[0m   \u001b[0;32melif\u001b[0m \u001b[0mopcion\u001b[0m \u001b[0;34m==\u001b[0m \u001b[0;34m\"1\"\u001b[0m\u001b[0;34m:\u001b[0m\u001b[0;34m\u001b[0m\u001b[0;34m\u001b[0m\u001b[0m\n\u001b[0;32m---> 15\u001b[0;31m     \u001b[0mbuscar_persona\u001b[0m\u001b[0;34m(\u001b[0m\u001b[0;34m)\u001b[0m\u001b[0;34m\u001b[0m\u001b[0;34m\u001b[0m\u001b[0m\n\u001b[0m\u001b[1;32m     16\u001b[0m   \u001b[0;32melif\u001b[0m \u001b[0mopcion\u001b[0m \u001b[0;34m==\u001b[0m \u001b[0;34m\"2\"\u001b[0m\u001b[0;34m:\u001b[0m\u001b[0;34m\u001b[0m\u001b[0;34m\u001b[0m\u001b[0m\n\u001b[1;32m     17\u001b[0m     \u001b[0mimprimircertificados\u001b[0m\u001b[0;34m(\u001b[0m\u001b[0;34m)\u001b[0m\u001b[0;34m\u001b[0m\u001b[0;34m\u001b[0m\u001b[0m\n",
            "\u001b[0;31mNameError\u001b[0m: name 'buscar_persona' is not defined"
          ]
        }
      ],
      "source": [
        "personas = []\n",
        "\n",
        "print(\"\\n------ MENÚ ------\")\n",
        "print(\"1. Grabar\")\n",
        "print(\"2. Buscar\")\n",
        "print(\"3. Imprimir certificados\")\n",
        "print(\"4. Eliminar\")\n",
        "print(\"5. Salir\")\n",
        "\n",
        "while True:\n",
        "  opcion = input(\"Ingrese el número de la opción que desea seleccionar: \")\n",
        "  if opcion == \"\":\n",
        "    grabar_persona()\n",
        "  elif opcion == \"1\":\n",
        "    buscar_persona()\n",
        "  elif opcion == \"2\":\n",
        "    imprimircertificados()\n",
        "  elif opcion == \"3\":\n",
        "    eliminar_persona()\n",
        "  elif opcion == \"4\":\n",
        "    salir\n",
        "  elif opcion==\"5\":\n",
        "\n",
        "\n",
        "    def validar_rut(rut):\n",
        "      rut = rut.replace(\".\", \"\").replace(\"-\", \"\")\n",
        "      if len(rut) != 9 or not rut[:-1].isdigit():\n",
        "        return False\n",
        "        multiplicadores = [2, 3, 4, 5, 6, 7, 2, 3]\n",
        "        total = sum(int(digito) * multiplicador for digito, multiplicador in zip(rut[:-1][::-1], multiplicadores))\n",
        "        resto = total % 11\n",
        "        digito_verificador = str(11 - resto)\n",
        "        if digito_verificador == \"11\":\n",
        "          gigito_verificador = \"0\"\n",
        "        elif digito_verificador == \"10\":\n",
        "          digito_verificador = \"X\"\n",
        "          return rut[-1].upper() == digito_verificador\n",
        "\n",
        "def grabar_persona():\n",
        "   rut = input(\"Ingrese el RUT de la persona (formato: XX.XXX.XXX-X): \")\n",
        "while not validar_rut(rut):\n",
        "    print(\"RUT inválido. Por favor, ingréselo nuevamente.\")\n",
        "\n",
        "rut = input(\"Ingrese el RUT de la persona (formato: XX.XXX.XXX-X): \")\n",
        "nombre = input(\"Ingrese el nombre de la persona: \")\n",
        "while len(nombre) < 8:\n",
        "   print(\"El nombre debe tener al menos 8 caracteres.\")\n",
        "   nombre = input(\"Ingrese el nombre de la persona: \")\n",
        "edad = int(input(\"Ingrese la edad de la persona: \"))\n",
        "while edad < 0:\n",
        "   print(\"La edad debe ser mayor o igual a 0.\")\n",
        "   edad = int(input(\"Ingrese la edad de la persona: \"))\n",
        "   pais_nacimiento = input(\"Ingrese el país de nacimiento de la persona: \")\n",
        "   ciudad_nacimiento = input(\"Ingrese la ciudad de nacimiento de la persona: \")\n",
        "\n",
        "def buscar_persona():\n",
        "    rut = input(\"Ingrese el RUT de la persona a buscar: \")\n",
        "    for persona in personas:\n",
        "     if persona[\"rut\"] == rut:\n",
        "      print(\"Información de la persona:\")\n",
        "      print(f\"RUT: {persona['rut']}\")\n",
        "      print(f\"Nombre: {persona['nombre']}\")\n",
        "      print(f\"Edad: {persona['edad']}\")\n",
        "      print(f\"País de nacimiento: {persona['pais_nacimiento']}\")\n",
        "      print(f\"Ciudad de nacimiento: {persona['ciudad_nacimiento']}\")\n",
        "      if persona['pais_nacimiento'].lower() == 'chile':\n",
        "\n",
        "        print(\"La persona pertenece al país de Chile.\")\n",
        "      return\n",
        "      print(\"No se encontró ninguna persona con ese RUT.\")\n",
        "\n",
        "      def imprimir_personas():\n",
        "        print(\"Personas registradas:\")\n",
        "        for persona in personas:\n",
        "          print(f\"RUT: {persona['rut']}\")\n",
        "          print(f\"Nombre: {persona['nombre']}\")\n",
        "          print(f\"Edad: {persona['edad']}\")\n",
        "          print(f\"País de nacimiento: {persona['pais_nacimiento']}\")\n",
        "          print(f\"Ciudad de nacimiento: {persona['ciudad_nacimiento']}\")\n",
        "\n",
        "        def imprimir_certificados():\n",
        "          for certificado in certificados:\n",
        "            print(f\"Nombre del certificado: \")\n",
        "            rut = input(\"Ingrese el RUT de la persona: \")\n",
        "            for persona in personas:\n",
        "              if persona[\"rut\"] == rut:\n",
        "                print(f\"RUT de la persona: {persona['rut']}\")\n",
        "                print(f\"Nombre de la persona: {persona['nombre']}\")\n",
        "                print(f\"Datos adicionales del certificado {certificado['codigo']}\")\n",
        "\n",
        "\n",
        "              def eliminar_persona():\n",
        "                rut = input(\"Ingrese el RUT de la persona a eliminar: \")\n",
        "                for persona in personas:\n",
        "                  if persona[\"rut\"] == rut:\n",
        "                    personas.remove(persona)\n",
        "                    rint(\"La persona ha sido eliminada correctamente.\")\n",
        "                    return\n",
        "                    print(\"No se encontró ninguna persona con ese RUT.\")\n",
        "\n",
        "                def salir():\n",
        "                  print(\"usted ha salido del programa\")\n",
        "                  break\n"
      ]
    }
  ]
}